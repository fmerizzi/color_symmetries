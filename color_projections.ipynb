{
  "nbformat": 4,
  "nbformat_minor": 0,
  "metadata": {
    "colab": {
      "name": "color_projections.ipynb",
      "provenance": [],
      "collapsed_sections": []
    },
    "kernelspec": {
      "display_name": "Python 3",
      "name": "python3"
    },
    "language_info": {
      "name": "python"
    }
  },
  "cells": [
    {
      "cell_type": "markdown",
      "metadata": {
        "id": "K2w5cMd_NIxw"
      },
      "source": [
        "# Color Projections\n",
        "\n",
        "In this notebook some version of color picking symmetries are tested. \n",
        "The code can be used to produce color palettes. "
      ]
    },
    {
      "cell_type": "markdown",
      "metadata": {
        "id": "NPYyQwDS5ZEw"
      },
      "source": [
        "## RGB symmetries "
      ]
    },
    {
      "cell_type": "code",
      "metadata": {
        "id": "6R2eEQ2GqTaG"
      },
      "source": [
        "import colorsys\n",
        "import matplotlib.pyplot as plt\n",
        "import numpy as np"
      ],
      "execution_count": 1,
      "outputs": []
    },
    {
      "cell_type": "code",
      "metadata": {
        "id": "yIiuxJ-0Ola_"
      },
      "source": [
        "def rgb2hex(r,g,b):\n",
        "    return \"#{:02x}{:02x}{:02x}\".format(r,g,b)\n",
        "\n",
        "def hex2rgb(hexcode):\n",
        "    return tuple(map(ord,hexcode[1:].decode('hex')))"
      ],
      "execution_count": 2,
      "outputs": []
    },
    {
      "cell_type": "code",
      "metadata": {
        "id": "R8lLAbJibbtC"
      },
      "source": [
        "def complementary_RGB(rgb):\n",
        "  return(255 - rgb[0],255 - rgb[1],255 - rgb[2])\n",
        "\n",
        "def proj1(rgb):\n",
        "  return(255 - rgb[0],rgb[1],rgb[2])\n",
        "\n",
        "def proj2(rgb):\n",
        "  return(rgb[0],255 - rgb[1],rgb[2])\n",
        "\n",
        "def proj3(rgb):\n",
        "  return(rgb[0],rgb[1],255 - rgb[2])"
      ],
      "execution_count": 3,
      "outputs": []
    },
    {
      "cell_type": "code",
      "metadata": {
        "id": "tLLIBktrMOdj"
      },
      "source": [
        "def print_RGB_symmetry(sample):\n",
        "  f, axarr = plt.subplots(2,2,figsize=(10,8))\n",
        "  axarr[0,0].imshow([[sample],[complementary_RGB(sample)]])\n",
        "  axarr[0,1].imshow([[proj1(sample)],[complementary_RGB(proj1(sample))]])\n",
        "  axarr[1,0].imshow([[proj2(sample)],[complementary_RGB(proj2(sample))]])\n",
        "  axarr[1,1].imshow([[proj3(sample)],[complementary_RGB(proj3(sample))]])\n",
        "\n",
        "  print(\"RGB SYMMETRY\")\n",
        "  print(\"-------------------------------------------\")\n",
        "  print(\"sample ----->\",sample)\n",
        "  print(\"compl. sample\",complementary_RGB(sample))\n",
        "  print(\"proj1 ------>\",proj1(sample))\n",
        "  print(\"compl.  proj1\", complementary_RGB(proj1(sample)))\n",
        "  print(\"proj2 ------>\",proj2(sample))\n",
        "  print(\"compl.  proj2\", complementary_RGB(proj2(sample)))\n",
        "  print(\"proj3 ------>\",proj3(sample))\n",
        "  print(\"compl.  proj3\", complementary_RGB(proj3(sample)))\n",
        "  print(\"-------------------------------------------\")\n",
        "  print(\"sample hex ------------>\",rgb2hex(sample[0],sample[1],sample[2]))\n",
        "  print(\"sample complementary hex\",rgb2hex(complementary_RGB(sample)[0],complementary_RGB(sample)[1],complementary_RGB(sample)[2]))\n",
        "  print(\"-------------------------------------------\")"
      ],
      "execution_count": 4,
      "outputs": []
    },
    {
      "cell_type": "markdown",
      "metadata": {
        "id": "xgQzctgd5jK8"
      },
      "source": [
        "## HLS symmetries"
      ]
    },
    {
      "cell_type": "code",
      "metadata": {
        "id": "9xZvMkJCp_oW"
      },
      "source": [
        "def complementaryColor(ColorInput):\n",
        "\t# Convert RGB (base 256) to HLS (between 0 and 1 )\n",
        "\tHLS = list(colorsys.rgb_to_hls(ColorInput[0] / 255, ColorInput[1] / 255, ColorInput[2] / 255))\n",
        "\n",
        "\t# Change the Hue value to the Hue opposite\n",
        "\tHueValue = HLS[0] * 360\n",
        "\tHLS[0] = ((HueValue + 180) % 360)/360\n",
        "\n",
        "\t# Convert HLS (between 0 and 1) to RGB (base 256)\n",
        "\treturn tuple(map(lambda x: round(x * 255),colorsys.hls_to_rgb(HLS[0],HLS[1],HLS[2])))\n",
        " \n",
        "def triadicColor(ColorInput):\n",
        "\t\n",
        "\t# Convert RGB (base 256) to HLS (between 0 and 1 )\n",
        "\tHLS = list(colorsys.rgb_to_hls(ColorInput[0] / 255, ColorInput[1] / 255, ColorInput[2] / 255))\n",
        "\t\n",
        "\t# Find the first triadic Hue\n",
        "\tFirstTriadicHue = ((HLS[0] * 360 + 120) % 360) / 360\n",
        "\n",
        "\t# Find the second triadic Hue\n",
        "\tSecondTriadicHue = ((HLS[0] * 360 + 240) % 360) / 360\n",
        "\n",
        "\tColorOutput1 = list(map(lambda x: round(x * 255),colorsys.hls_to_rgb(FirstTriadicHue,HLS[1],HLS[2])))\n",
        "\tColorOutput2 = list(map(lambda x: round(x * 255),colorsys.hls_to_rgb(SecondTriadicHue,HLS[1],HLS[2])))\n",
        "\n",
        "\treturn [ColorOutput1,ColorOutput2]\n",
        "\n",
        "\n",
        "def splitComplementaryColor(ColorInput):\n",
        "\t# Convert RGB (base 256) to HLS (between 0 and 1 )\n",
        "\tHLS = list(colorsys.rgb_to_hls(ColorInput[0] / 255, ColorInput[1] / 255, ColorInput[2] / 255))\n",
        "\n",
        "\t# Find the first triadic Hue\n",
        "\tFirstSplitComplementaryHue = ((HLS[0] * 360 + 150) % 360) / 360\n",
        "\n",
        "\t# Find the second triadic Hue\n",
        "\tSecondSplitComplementaryHue = ((HLS[0] * 360 + 210) % 360) / 360\n",
        "\n",
        "\tColorOutput1 = list(map(lambda x: round(x * 255),colorsys.hls_to_rgb(FirstSplitComplementaryHue,HLS[1],HLS[2])))\n",
        "\tColorOutput2 = list(map(lambda x: round(x * 255),colorsys.hls_to_rgb(SecondSplitComplementaryHue,HLS[1],HLS[2])))\n",
        "\n",
        "\treturn [ColorOutput1,ColorOutput2]\n",
        "\n",
        "def tetradicColor(ColorInput):\n",
        "\n",
        "\t# Convert RGB (base 256) to HLS (between 0 and 1 )\n",
        "\tHLS = list(colorsys.rgb_to_hls(ColorInput[0] / 255, ColorInput[1] / 255, ColorInput[2] / 255))\n",
        "\n",
        "\t# Find the first tetradic Hue\n",
        "\tFirstTetradicHue = ((HLS[0] * 360 + 60) % 360) / 360\n",
        "\n",
        "\t# Find the second tetradic Hue\n",
        "\tSecondTetradicHue = ((HLS[0] * 360 + 180) % 360) / 360\n",
        "\n",
        "\t# Find the third tetradic Hue\n",
        "\tThirdTetradicHue = ((HLS[0] * 360 + 240) % 360) / 360\n",
        "\n",
        "\tColorOutput1 = list(map(lambda x: round(x * 255),colorsys.hls_to_rgb(FirstTetradicHue,HLS[1],HLS[2])))\n",
        "\tColorOutput2 = list(map(lambda x: round(x * 255),colorsys.hls_to_rgb(SecondTetradicHue,HLS[1],HLS[2])))\n",
        "\tColorOutput3 = list(map(lambda x: round(x * 255),colorsys.hls_to_rgb(ThirdTetradicHue,HLS[1],HLS[2])))\n",
        "\n",
        "\treturn [ColorOutput1,ColorOutput2,ColorOutput3]\n",
        "\n",
        "def analogousColor(ColorInput):\n",
        "\t# Convert RGB (base 256) to HLS (between 0 and 1 )\n",
        "\tHLS = list(colorsys.rgb_to_hls(ColorInput[0] / 255, ColorInput[1] / 255, ColorInput[2] / 255))\n",
        "\n",
        "\t# Find the first analogous Hue\n",
        "\tFirstAnalogousHue = ((HLS[0] * 360 + 30) % 360) / 360\n",
        "\n",
        "\t# Find the second analogous Hue\n",
        "\tSecondAnalogousHue = ((HLS[0] * 360 - 30) % 360) / 360\n",
        "\n",
        "\tColorOutput1 = list(map(lambda x: round(x * 255),colorsys.hls_to_rgb(FirstAnalogousHue,HLS[1],HLS[2])))\n",
        "\tColorOutput2 = list(map(lambda x: round(x * 255),colorsys.hls_to_rgb(SecondAnalogousHue,HLS[1],HLS[2])))\n",
        "\n",
        "\treturn [ColorOutput1,ColorOutput2]\n"
      ],
      "execution_count": 5,
      "outputs": []
    },
    {
      "cell_type": "code",
      "metadata": {
        "id": "EYPJnHN0-NpR"
      },
      "source": [
        "def print_HLS_complementary(sample):\n",
        "  plt.figure(figsize=(8,8))\n",
        "  plt.imshow([[sample],[complementaryColor(sample)]])\n",
        "\n",
        "  print(\"HLS_complementary\")\n",
        "  print(\"-------------------------------------------\")\n",
        "  print(\"sample ----->\",sample)\n",
        "  print(\"compl. sample\",complementaryColor(sample))\n",
        "  print(\"-------------------------------------------\")\n",
        "  print(\"sample hex ------------>\",rgb2hex(sample[0],sample[1],sample[2]))\n",
        "  print(\"sample complementary hex\",rgb2hex(complementaryColor(sample)[0],complementaryColor(sample)[1],complementaryColor(sample)[2]))\n",
        "  print(\"-------------------------------------------\")\n",
        "\n",
        "def print_HLS_splitComplementaryColor(sample):\n",
        "  plt.figure(figsize=(8,8))\n",
        "  plt.imshow([[sample],[splitComplementaryColor(sample)[0]],[splitComplementaryColor(sample)[1]]])\n",
        "\n",
        "  print(\"HLS_splitComplementaryColor\")\n",
        "  print(\"-------------------------------------------\")\n",
        "  print(\"sample ----->\",sample)\n",
        "  print(\"compl. sample\",splitComplementaryColor(sample)[0])\n",
        "  print(\"compl. sample\",splitComplementaryColor(sample)[1])\n",
        "  print(\"-------------------------------------------\")\n",
        "  print(\"sample hex ------------>\",rgb2hex(sample[0],sample[1],sample[2]))\n",
        "  print(\"sample complementary hex\",rgb2hex(splitComplementaryColor(sample)[0][0],splitComplementaryColor(sample)[0][1],splitComplementaryColor(sample)[0][2]))\n",
        "  print(\"sample complementary hex\",rgb2hex(splitComplementaryColor(sample)[1][0],splitComplementaryColor(sample)[1][1],splitComplementaryColor(sample)[1][2]))\n",
        "  print(\"-------------------------------------------\")\n",
        "\n",
        "def print_HLS_triadicColor(sample):\n",
        "  plt.figure(figsize=(8,8))\n",
        "  plt.imshow([[sample],[triadicColor(sample)[0]],[triadicColor(sample)[1]]])\n",
        "\n",
        "  print(\"HLS_triadicColor\")\n",
        "  print(\"-------------------------------------------\")\n",
        "  print(\"sample ----->\",sample)\n",
        "  print(\"compl. sample\",triadicColor(sample)[0])\n",
        "  print(\"compl. sample\",triadicColor(sample)[1])\n",
        "  print(\"-------------------------------------------\")\n",
        "  print(\"sample hex ------------>\",rgb2hex(sample[0],sample[1],sample[2]))\n",
        "  print(\"sample complementary hex\",rgb2hex(triadicColor(sample)[0][0],triadicColor(sample)[0][1],triadicColor(sample)[0][2]))\n",
        "  print(\"sample complementary hex\",rgb2hex(triadicColor(sample)[1][0],triadicColor(sample)[1][1],triadicColor(sample)[1][2]))\n",
        "  print(\"-------------------------------------------\")\n",
        "\n",
        "def print_HLS_analogousColor(sample):\n",
        "  plt.figure(figsize=(8,8))\n",
        "  plt.imshow([[sample],[analogousColor(sample)[0]],[analogousColor(sample)[1]]])\n",
        "\n",
        "  print(\"HLS_analogousColor\")\n",
        "  print(\"-------------------------------------------\")\n",
        "  print(\"sample ----->\",sample)\n",
        "  print(\"compl. sample\",analogousColor(sample)[0])\n",
        "  print(\"compl. sample\",analogousColor(sample)[1])\n",
        "  print(\"-------------------------------------------\")\n",
        "  print(\"sample hex ------------>\",rgb2hex(sample[0],sample[1],sample[2]))\n",
        "  print(\"sample complementary hex\",rgb2hex(analogousColor(sample)[0][0],analogousColor(sample)[0][1],analogousColor(sample)[0][2]))\n",
        "  print(\"sample complementary hex\",rgb2hex(analogousColor(sample)[1][0],analogousColor(sample)[1][1],analogousColor(sample)[1][2]))\n",
        "  print(\"-------------------------------------------\")\n",
        "\n",
        "def print_HLS_tetradicColor(sample):\n",
        "  plt.figure(figsize=(8,8))\n",
        "  plt.imshow([[sample],[tetradicColor(sample)[0]],[tetradicColor(sample)[1]],[tetradicColor(sample)[2]]])\n",
        "\n",
        "  print(\"HLS_tetradicColor\")\n",
        "  print(\"-------------------------------------------\")\n",
        "  print(\"sample ----->\",sample)\n",
        "  print(\"compl. sample\",tetradicColor(sample)[0])\n",
        "  print(\"compl. sample\",tetradicColor(sample)[1])\n",
        "  print(\"compl. sample\",tetradicColor(sample)[2])\n",
        "  print(\"-------------------------------------------\")\n",
        "  print(\"sample hex ------------>\",rgb2hex(sample[0],sample[1],sample[2]))\n",
        "  print(\"sample complementary hex\",rgb2hex(tetradicColor(sample)[0][0],tetradicColor(sample)[0][1],tetradicColor(sample)[0][2]))\n",
        "  print(\"sample complementary hex\",rgb2hex(tetradicColor(sample)[1][0],tetradicColor(sample)[1][1],tetradicColor(sample)[1][2]))\n",
        "  print(\"sample complementary hex\",rgb2hex(tetradicColor(sample)[2][0],tetradicColor(sample)[2][1],tetradicColor(sample)[2][2]))\n",
        "  print(\"-------------------------------------------\")\n"
      ],
      "execution_count": 6,
      "outputs": []
    },
    {
      "cell_type": "markdown",
      "metadata": {
        "id": "zkFUpMQSJfhg"
      },
      "source": [
        "## Print the colors \n"
      ]
    },
    {
      "cell_type": "code",
      "metadata": {
        "colab": {
          "base_uri": "https://localhost:8080/",
          "height": 742
        },
        "id": "2zs44F6cKMga",
        "outputId": "79e8ddbd-e8e7-444e-faa7-b28808cfcbd6"
      },
      "source": [
        "#choose a color or randomly generate one\n",
        "#sample = (np.random.randint(0,high=255),np.random.randint(0,high=255),np.random.randint(0,high=255))\n",
        "sample =  (199, 120, 255)\n",
        "print(sample)\n",
        "print_RGB_symmetry(sample)"
      ],
      "execution_count": 109,
      "outputs": [
        {
          "output_type": "stream",
          "name": "stdout",
          "text": [
            "(199, 120, 255)\n",
            "RGB SYMMETRY\n",
            "-------------------------------------------\n",
            "sample -----> (199, 120, 255)\n",
            "compl. sample (56, 135, 0)\n",
            "proj1 ------> (56, 120, 255)\n",
            "compl.  proj1 (199, 135, 0)\n",
            "proj2 ------> (199, 135, 255)\n",
            "compl.  proj2 (56, 120, 0)\n",
            "proj3 ------> (199, 120, 0)\n",
            "compl.  proj3 (56, 135, 255)\n",
            "-------------------------------------------\n",
            "sample hex ------------> #c778ff\n",
            "sample complementary hex #388700\n",
            "-------------------------------------------\n"
          ]
        },
        {
          "output_type": "display_data",
          "data": {
            "image/png": "[encoded data removed]",
            "text/plain": [
              "<Figure size 720x576 with 4 Axes>"
            ]
          },
          "metadata": {
            "needs_background": "light"
          }
        }
      ]
    },
    {
      "cell_type": "code",
      "metadata": {
        "colab": {
          "base_uri": "https://localhost:8080/",
          "height": 623
        },
        "id": "GVdGrqF_KMpq",
        "outputId": "162d7f15-f386-451f-c207-6bf6d4b2d433"
      },
      "source": [
        "print_HLS_complementary(sample)"
      ],
      "execution_count": 110,
      "outputs": [
        {
          "output_type": "stream",
          "name": "stdout",
          "text": [
            "HLS_complementary\n",
            "-------------------------------------------\n",
            "sample -----> (199, 120, 255)\n",
            "compl. sample (176, 255, 120)\n",
            "-------------------------------------------\n",
            "sample hex ------------> #c778ff\n",
            "sample complementary hex #b0ff78\n",
            "-------------------------------------------\n"
          ]
        },
        {
          "output_type": "display_data",
          "data": {
            "image/png": "[encoded data removed]",
            "text/plain": [
              "<Figure size 576x576 with 1 Axes>"
            ]
          },
          "metadata": {
            "needs_background": "light"
          }
        }
      ]
    },
    {
      "cell_type": "code",
      "metadata": {
        "colab": {
          "base_uri": "https://localhost:8080/",
          "height": 657
        },
        "id": "9LrZZgOXKMwe",
        "outputId": "ea286de7-0dd7-4eb6-9c99-b5904a3c83c4"
      },
      "source": [
        "print_HLS_splitComplementaryColor(sample)"
      ],
      "execution_count": 111,
      "outputs": [
        {
          "output_type": "stream",
          "name": "stdout",
          "text": [
            "HLS_splitComplementaryColor\n",
            "-------------------------------------------\n",
            "sample -----> (199, 120, 255)\n",
            "compl. sample [243, 255, 120]\n",
            "compl. sample [120, 255, 132]\n",
            "-------------------------------------------\n",
            "sample hex ------------> #c778ff\n",
            "sample complementary hex #f3ff78\n",
            "sample complementary hex #78ff84\n",
            "-------------------------------------------\n"
          ]
        },
        {
          "output_type": "display_data",
          "data": {
            "image/png": "[encoded data removed]",
            "text/plain": [
              "<Figure size 576x576 with 1 Axes>"
            ]
          },
          "metadata": {
            "needs_background": "light"
          }
        }
      ]
    },
    {
      "cell_type": "code",
      "metadata": {
        "colab": {
          "base_uri": "https://localhost:8080/",
          "height": 657
        },
        "id": "ndp_hfjcKM33",
        "outputId": "4a203e77-0316-48f2-8cda-9e0e8a1fb5bb"
      },
      "source": [
        "print_HLS_triadicColor(sample)"
      ],
      "execution_count": 112,
      "outputs": [
        {
          "output_type": "stream",
          "name": "stdout",
          "text": [
            "HLS_triadicColor\n",
            "-------------------------------------------\n",
            "sample -----> (199, 120, 255)\n",
            "compl. sample [255, 199, 120]\n",
            "compl. sample [120, 255, 199]\n",
            "-------------------------------------------\n",
            "sample hex ------------> #c778ff\n",
            "sample complementary hex #ffc778\n",
            "sample complementary hex #78ffc7\n",
            "-------------------------------------------\n"
          ]
        },
        {
          "output_type": "display_data",
          "data": {
            "image/png": "[encoded data removed]",
            "text/plain": [
              "<Figure size 576x576 with 1 Axes>"
            ]
          },
          "metadata": {
            "needs_background": "light"
          }
        }
      ]
    },
    {
      "cell_type": "code",
      "metadata": {
        "colab": {
          "base_uri": "https://localhost:8080/",
          "height": 657
        },
        "id": "L4RM9CVCKNAA",
        "outputId": "77a26d34-f4b6-4517-d92d-7479526d5d65"
      },
      "source": [
        "print_HLS_analogousColor(sample)"
      ],
      "execution_count": 113,
      "outputs": [
        {
          "output_type": "stream",
          "name": "stdout",
          "text": [
            "HLS_analogousColor\n",
            "-------------------------------------------\n",
            "sample -----> (199, 120, 255)\n",
            "compl. sample [255, 120, 243]\n",
            "compl. sample [132, 120, 255]\n",
            "-------------------------------------------\n",
            "sample hex ------------> #c778ff\n",
            "sample complementary hex #ff78f3\n",
            "sample complementary hex #8478ff\n",
            "-------------------------------------------\n"
          ]
        },
        {
          "output_type": "display_data",
          "data": {
            "image/png": "[encoded data removed]",
            "text/plain": [
              "<Figure size 576x576 with 1 Axes>"
            ]
          },
          "metadata": {
            "needs_background": "light"
          }
        }
      ]
    },
    {
      "cell_type": "code",
      "metadata": {
        "colab": {
          "base_uri": "https://localhost:8080/",
          "height": 691
        },
        "id": "zUhSDadNJiYQ",
        "outputId": "e629cd50-b5a8-4401-8117-0c800dce9f7a"
      },
      "source": [
        "print_HLS_tetradicColor(sample)"
      ],
      "execution_count": 114,
      "outputs": [
        {
          "output_type": "stream",
          "name": "stdout",
          "text": [
            "HLS_tetradicColor\n",
            "-------------------------------------------\n",
            "sample -----> (199, 120, 255)\n",
            "compl. sample [255, 120, 176]\n",
            "compl. sample [176, 255, 120]\n",
            "compl. sample [120, 255, 199]\n",
            "-------------------------------------------\n",
            "sample hex ------------> #c778ff\n",
            "sample complementary hex #ff78b0\n",
            "sample complementary hex #b0ff78\n",
            "sample complementary hex #78ffc7\n",
            "-------------------------------------------\n"
          ]
        },
        {
          "output_type": "display_data",
          "data": {
            "image/png": "[encoded data removed]",
            "text/plain": [
              "<Figure size 576x576 with 1 Axes>"
            ]
          },
          "metadata": {
            "needs_background": "light"
          }
        }
      ]
    },
    {
      "cell_type": "markdown",
      "source": [
        "## Create a GPL palette of colors"
      ],
      "metadata": {
        "id": "g-vOekYUR7E5"
      }
    },
    {
      "cell_type": "code",
      "source": [
        "def rgb2hex2(r,g,b):\n",
        "    return \"{:02x}{:02x}{:02x}\".format(r,g,b)"
      ],
      "metadata": {
        "id": "69ieVO8JWGXB"
      },
      "execution_count": 125,
      "outputs": []
    },
    {
      "cell_type": "code",
      "source": [
        "color = (199, 120, 255)\n",
        "name = str(color)\n",
        "colors = []"
      ],
      "metadata": {
        "id": "5tFL4_FSSZ8j"
      },
      "execution_count": 126,
      "outputs": []
    },
    {
      "cell_type": "code",
      "source": [
        "#add the first two complementary RGB cube \n",
        "sample = color\n",
        "colors.append([sample[0],sample[1],sample[2],rgb2hex2(sample[0],sample[1],sample[2])])\n",
        "sample = complementary_RGB(sample)\n",
        "colors.append([sample[0],sample[1],sample[2],rgb2hex2(sample[0],sample[1],sample[2])])"
      ],
      "metadata": {
        "id": "pjeJvlGKVPmQ"
      },
      "execution_count": 127,
      "outputs": []
    },
    {
      "cell_type": "code",
      "source": [
        "sample = complementaryColor(color)\n",
        "colors.append([sample[0],sample[1],sample[2],rgb2hex2(sample[0],sample[1],sample[2])])\n",
        "\n",
        "[sample1, sample2] = triadicColor(color)\n",
        "colors.append([sample1[0],sample1[1],sample1[2],rgb2hex2(sample1[0],sample1[1],sample1[2])])\n",
        "colors.append([sample2[0],sample2[1],sample2[2],rgb2hex2(sample2[0],sample2[1],sample2[2])])\n",
        "\n",
        "[sample1,sample2] = splitComplementaryColor(color)\n",
        "colors.append([sample1[0],sample1[1],sample1[2],rgb2hex2(sample1[0],sample1[1],sample1[2])])\n",
        "colors.append([sample2[0],sample2[1],sample2[2],rgb2hex2(sample2[0],sample2[1],sample2[2])])\n",
        "\n",
        "[sample1, sample2, sample3] = tetradicColor(color)\n",
        "colors.append([sample1[0],sample1[1],sample1[2],rgb2hex2(sample1[0],sample1[1],sample1[2])])\n",
        "colors.append([sample2[0],sample2[1],sample2[2],rgb2hex2(sample2[0],sample2[1],sample2[2])])\n",
        "colors.append([sample3[0],sample3[1],sample3[2],rgb2hex2(sample3[0],sample3[1],sample3[2])])\n",
        "\n",
        "[sample1,sample2] = analogousColor(color)\n",
        "colors.append([sample1[0],sample1[1],sample1[2],rgb2hex2(sample1[0],sample1[1],sample1[2])])\n",
        "colors.append([sample2[0],sample2[1],sample2[2],rgb2hex2(sample2[0],sample2[1],sample2[2])])"
      ],
      "metadata": {
        "id": "UmnUSpyKXazp"
      },
      "execution_count": 128,
      "outputs": []
    },
    {
      "cell_type": "code",
      "source": [
        "#add the projection 2 and complementary \n",
        "colors.append([255,255,255,rgb2hex2(255,255,255)])\n",
        "colors.append([255,255,255,rgb2hex2(255,255,255)])\n",
        "colors.append([255,255,255,rgb2hex2(255,255,255)])\n",
        "colors.append([255,255,255,rgb2hex2(255,255,255)])\n",
        "\n",
        "color = proj2(color)\n",
        "sample = color\n",
        "colors.append([sample[0],sample[1],sample[2],rgb2hex2(sample[0],sample[1],sample[2])])\n",
        "sample = complementary_RGB(sample)\n",
        "colors.append([sample[0],sample[1],sample[2],rgb2hex2(sample[0],sample[1],sample[2])])"
      ],
      "metadata": {
        "id": "y85JjZ5QWYdB"
      },
      "execution_count": 129,
      "outputs": []
    },
    {
      "cell_type": "code",
      "source": [
        "sample = complementaryColor(color)\n",
        "colors.append([sample[0],sample[1],sample[2],rgb2hex2(sample[0],sample[1],sample[2])])\n",
        "\n",
        "[sample1, sample2] = triadicColor(color)\n",
        "colors.append([sample1[0],sample1[1],sample1[2],rgb2hex2(sample1[0],sample1[1],sample1[2])])\n",
        "colors.append([sample2[0],sample2[1],sample2[2],rgb2hex2(sample2[0],sample2[1],sample2[2])])\n",
        "\n",
        "[sample1,sample2] = splitComplementaryColor(color)\n",
        "colors.append([sample1[0],sample1[1],sample1[2],rgb2hex2(sample1[0],sample1[1],sample1[2])])\n",
        "colors.append([sample2[0],sample2[1],sample2[2],rgb2hex2(sample2[0],sample2[1],sample2[2])])\n",
        "\n",
        "[sample1, sample2, sample3] = tetradicColor(color)\n",
        "colors.append([sample1[0],sample1[1],sample1[2],rgb2hex2(sample1[0],sample1[1],sample1[2])])\n",
        "colors.append([sample2[0],sample2[1],sample2[2],rgb2hex2(sample2[0],sample2[1],sample2[2])])\n",
        "colors.append([sample3[0],sample3[1],sample3[2],rgb2hex2(sample3[0],sample3[1],sample3[2])])\n",
        "\n",
        "[sample1,sample2] = analogousColor(color)\n",
        "colors.append([sample1[0],sample1[1],sample1[2],rgb2hex2(sample1[0],sample1[1],sample1[2])])\n",
        "colors.append([sample2[0],sample2[1],sample2[2],rgb2hex2(sample2[0],sample2[1],sample2[2])])"
      ],
      "metadata": {
        "id": "PjIOS4-ZZr01"
      },
      "execution_count": 130,
      "outputs": []
    },
    {
      "cell_type": "code",
      "source": [
        "#add the projection 2 and complementary \n",
        "colors.append([255,255,255,rgb2hex2(255,255,255)])\n",
        "colors.append([255,255,255,rgb2hex2(255,255,255)])\n",
        "colors.append([255,255,255,rgb2hex2(255,255,255)])\n",
        "colors.append([255,255,255,rgb2hex2(255,255,255)])\n",
        "\n",
        "color = proj3(color)\n",
        "sample = color\n",
        "colors.append([sample[0],sample[1],sample[2],rgb2hex2(sample[0],sample[1],sample[2])])\n",
        "sample = complementary_RGB(sample)\n",
        "colors.append([sample[0],sample[1],sample[2],rgb2hex2(sample[0],sample[1],sample[2])])"
      ],
      "metadata": {
        "id": "llB3vbiyb17U"
      },
      "execution_count": 131,
      "outputs": []
    },
    {
      "cell_type": "code",
      "source": [
        "sample = complementaryColor(color)\n",
        "colors.append([sample[0],sample[1],sample[2],rgb2hex2(sample[0],sample[1],sample[2])])\n",
        "\n",
        "[sample1, sample2] = triadicColor(color)\n",
        "colors.append([sample1[0],sample1[1],sample1[2],rgb2hex2(sample1[0],sample1[1],sample1[2])])\n",
        "colors.append([sample2[0],sample2[1],sample2[2],rgb2hex2(sample2[0],sample2[1],sample2[2])])\n",
        "\n",
        "[sample1,sample2] = splitComplementaryColor(color)\n",
        "colors.append([sample1[0],sample1[1],sample1[2],rgb2hex2(sample1[0],sample1[1],sample1[2])])\n",
        "colors.append([sample2[0],sample2[1],sample2[2],rgb2hex2(sample2[0],sample2[1],sample2[2])])\n",
        "\n",
        "[sample1, sample2, sample3] = tetradicColor(color)\n",
        "colors.append([sample1[0],sample1[1],sample1[2],rgb2hex2(sample1[0],sample1[1],sample1[2])])\n",
        "colors.append([sample2[0],sample2[1],sample2[2],rgb2hex2(sample2[0],sample2[1],sample2[2])])\n",
        "colors.append([sample3[0],sample3[1],sample3[2],rgb2hex2(sample3[0],sample3[1],sample3[2])])\n",
        "\n",
        "[sample1,sample2] = analogousColor(color)\n",
        "colors.append([sample1[0],sample1[1],sample1[2],rgb2hex2(sample1[0],sample1[1],sample1[2])])\n",
        "colors.append([sample2[0],sample2[1],sample2[2],rgb2hex2(sample2[0],sample2[1],sample2[2])])"
      ],
      "metadata": {
        "id": "ycYZ0W7ab4eH"
      },
      "execution_count": 132,
      "outputs": []
    },
    {
      "cell_type": "code",
      "source": [
        "f = open('palette.GPL', 'a')\n",
        "f.write('GIMP Palette\\n') \n",
        "f.write('#Palette Name: ' + name +  '\\n') \n",
        "f.write('#Colors: ' + str(len(colors)) +  '\\n') \n",
        "for color in colors: \n",
        "  f.write(str(color[0]) + '\\t' + str(color[1]) + '\\t' + str(color[2]) + '\\t' + color[3] + '\\n') \n",
        "f.close() "
      ],
      "metadata": {
        "id": "itD4_3MJR-Go"
      },
      "execution_count": 133,
      "outputs": []
    }
  ]
}