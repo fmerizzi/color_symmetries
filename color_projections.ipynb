{
  "nbformat": 4,
  "nbformat_minor": 0,
  "metadata": {
    "colab": {
      "name": "color_projections.ipynb",
      "provenance": [],
      "collapsed_sections": []
    },
    "kernelspec": {
      "display_name": "Python 3",
      "name": "python3"
    },
    "language_info": {
      "name": "python"
    }
  },
  "cells": [
    {
      "cell_type": "markdown",
      "metadata": {
        "id": "K2w5cMd_NIxw"
      },
      "source": [
        "# Color Prjections\n",
        "\n",
        "In this notebook some version of color picking symmetries are tested. \n",
        "The code can be used to produce color palettes. "
      ]
    },
    {
      "cell_type": "markdown",
      "metadata": {
        "id": "NPYyQwDS5ZEw"
      },
      "source": [
        "## RGB symmetries "
      ]
    },
    {
      "cell_type": "code",
      "metadata": {
        "id": "6R2eEQ2GqTaG"
      },
      "source": [
        "import colorsys\n",
        "import matplotlib.pyplot as plt\n",
        "import numpy as np"
      ],
      "execution_count": 289,
      "outputs": []
    },
    {
      "cell_type": "code",
      "metadata": {
        "id": "yIiuxJ-0Ola_"
      },
      "source": [
        "def rgb2hex(r,g,b):\n",
        "    return \"#{:02x}{:02x}{:02x}\".format(r,g,b)\n",
        "\n",
        "def hex2rgb(hexcode):\n",
        "    return tuple(map(ord,hexcode[1:].decode('hex')))"
      ],
      "execution_count": 290,
      "outputs": []
    },
    {
      "cell_type": "code",
      "metadata": {
        "id": "R8lLAbJibbtC"
      },
      "source": [
        "def complementary_RGB(rgb):\n",
        "  return(255 - rgb[0],255 - rgb[1],255 - rgb[2])\n",
        "\n",
        "def proj1(rgb):\n",
        "  return(255 - rgb[0],rgb[1],rgb[2])\n",
        "\n",
        "def proj2(rgb):\n",
        "  return(rgb[0],255 - rgb[1],rgb[2])\n",
        "\n",
        "def proj3(rgb):\n",
        "  return(rgb[0],rgb[1],255 - rgb[2])"
      ],
      "execution_count": 291,
      "outputs": []
    },
    {
      "cell_type": "code",
      "metadata": {
        "id": "tLLIBktrMOdj"
      },
      "source": [
        "def print_RGB_symmetry(sample):\n",
        "  f, axarr = plt.subplots(2,2,figsize=(10,8))\n",
        "  axarr[0,0].imshow([[sample],[complementary_RGB(sample)]])\n",
        "  axarr[0,1].imshow([[proj1(sample)],[complementary_RGB(proj1(sample))]])\n",
        "  axarr[1,0].imshow([[proj2(sample)],[complementary_RGB(proj2(sample))]])\n",
        "  axarr[1,1].imshow([[proj3(sample)],[complementary_RGB(proj3(sample))]])\n",
        "\n",
        "  print(\"RGB SYMMETRY\")\n",
        "  print(\"-------------------------------------------\")\n",
        "  print(\"sample ----->\",sample)\n",
        "  print(\"compl. sample\",complementary_RGB(sample))\n",
        "  print(\"proj1 ------>\",proj1(sample))\n",
        "  print(\"compl.  proj1\", complementary_RGB(proj1(sample)))\n",
        "  print(\"proj2 ------>\",proj2(sample))\n",
        "  print(\"compl.  proj2\", complementary_RGB(proj2(sample)))\n",
        "  print(\"proj3 ------>\",proj3(sample))\n",
        "  print(\"compl.  proj3\", complementary_RGB(proj3(sample)))\n",
        "  print(\"-------------------------------------------\")\n",
        "  print(\"sample hex ------------>\",rgb2hex(sample[0],sample[1],sample[2]))\n",
        "  print(\"sample complementary hex\",rgb2hex(complementary_RGB(sample)[0],complementary_RGB(sample)[1],complementary_RGB(sample)[2]))\n",
        "  print(\"-------------------------------------------\")"
      ],
      "execution_count": 292,
      "outputs": []
    },
    {
      "cell_type": "markdown",
      "metadata": {
        "id": "xgQzctgd5jK8"
      },
      "source": [
        "## HLS symmetries"
      ]
    },
    {
      "cell_type": "code",
      "metadata": {
        "id": "9xZvMkJCp_oW"
      },
      "source": [
        "def complementaryColor(ColorInput):\n",
        "\t# Convert RGB (base 256) to HLS (between 0 and 1 )\n",
        "\tHLS = list(colorsys.rgb_to_hls(ColorInput[0] / 255, ColorInput[1] / 255, ColorInput[2] / 255))\n",
        "\n",
        "\t# Change the Hue value to the Hue opposite\n",
        "\tHueValue = HLS[0] * 360\n",
        "\tHLS[0] = ((HueValue + 180) % 360)/360\n",
        "\n",
        "\t# Convert HLS (between 0 and 1) to RGB (base 256)\n",
        "\treturn tuple(map(lambda x: round(x * 255),colorsys.hls_to_rgb(HLS[0],HLS[1],HLS[2])))\n",
        " \n",
        "def triadicColor(ColorInput):\n",
        "\t\n",
        "\t# Convert RGB (base 256) to HLS (between 0 and 1 )\n",
        "\tHLS = list(colorsys.rgb_to_hls(ColorInput[0] / 255, ColorInput[1] / 255, ColorInput[2] / 255))\n",
        "\t\n",
        "\t# Find the first triadic Hue\n",
        "\tFirstTriadicHue = ((HLS[0] * 360 + 120) % 360) / 360\n",
        "\n",
        "\t# Find the second triadic Hue\n",
        "\tSecondTriadicHue = ((HLS[0] * 360 + 240) % 360) / 360\n",
        "\n",
        "\tColorOutput1 = list(map(lambda x: round(x * 255),colorsys.hls_to_rgb(FirstTriadicHue,HLS[1],HLS[2])))\n",
        "\tColorOutput2 = list(map(lambda x: round(x * 255),colorsys.hls_to_rgb(SecondTriadicHue,HLS[1],HLS[2])))\n",
        "\n",
        "\treturn [ColorOutput1,ColorOutput2]\n",
        "\n",
        "\n",
        "def splitComplementaryColor(ColorInput):\n",
        "\t# Convert RGB (base 256) to HLS (between 0 and 1 )\n",
        "\tHLS = list(colorsys.rgb_to_hls(ColorInput[0] / 255, ColorInput[1] / 255, ColorInput[2] / 255))\n",
        "\n",
        "\t# Find the first triadic Hue\n",
        "\tFirstSplitComplementaryHue = ((HLS[0] * 360 + 150) % 360) / 360\n",
        "\n",
        "\t# Find the second triadic Hue\n",
        "\tSecondSplitComplementaryHue = ((HLS[0] * 360 + 210) % 360) / 360\n",
        "\n",
        "\tColorOutput1 = list(map(lambda x: round(x * 255),colorsys.hls_to_rgb(FirstSplitComplementaryHue,HLS[1],HLS[2])))\n",
        "\tColorOutput2 = list(map(lambda x: round(x * 255),colorsys.hls_to_rgb(SecondSplitComplementaryHue,HLS[1],HLS[2])))\n",
        "\n",
        "\treturn [ColorOutput1,ColorOutput2]\n",
        "\n",
        "def tetradicColor(ColorInput):\n",
        "\n",
        "\t# Convert RGB (base 256) to HLS (between 0 and 1 )\n",
        "\tHLS = list(colorsys.rgb_to_hls(ColorInput[0] / 255, ColorInput[1] / 255, ColorInput[2] / 255))\n",
        "\n",
        "\t# Find the first tetradic Hue\n",
        "\tFirstTetradicHue = ((HLS[0] * 360 + 60) % 360) / 360\n",
        "\n",
        "\t# Find the second tetradic Hue\n",
        "\tSecondTetradicHue = ((HLS[0] * 360 + 180) % 360) / 360\n",
        "\n",
        "\t# Find the third tetradic Hue\n",
        "\tThirdTetradicHue = ((HLS[0] * 360 + 240) % 360) / 360\n",
        "\n",
        "\tColorOutput1 = list(map(lambda x: round(x * 255),colorsys.hls_to_rgb(FirstTetradicHue,HLS[1],HLS[2])))\n",
        "\tColorOutput2 = list(map(lambda x: round(x * 255),colorsys.hls_to_rgb(SecondTetradicHue,HLS[1],HLS[2])))\n",
        "\tColorOutput3 = list(map(lambda x: round(x * 255),colorsys.hls_to_rgb(ThirdTetradicHue,HLS[1],HLS[2])))\n",
        "\n",
        "\treturn [ColorOutput1,ColorOutput2,ColorOutput3]\n",
        "\n",
        "def analogousColor(ColorInput):\n",
        "\t# Convert RGB (base 256) to HLS (between 0 and 1 )\n",
        "\tHLS = list(colorsys.rgb_to_hls(ColorInput[0] / 255, ColorInput[1] / 255, ColorInput[2] / 255))\n",
        "\n",
        "\t# Find the first analogous Hue\n",
        "\tFirstAnalogousHue = ((HLS[0] * 360 + 30) % 360) / 360\n",
        "\n",
        "\t# Find the second analogous Hue\n",
        "\tSecondAnalogousHue = ((HLS[0] * 360 - 30) % 360) / 360\n",
        "\n",
        "\tColorOutput1 = list(map(lambda x: round(x * 255),colorsys.hls_to_rgb(FirstAnalogousHue,HLS[1],HLS[2])))\n",
        "\tColorOutput2 = list(map(lambda x: round(x * 255),colorsys.hls_to_rgb(SecondAnalogousHue,HLS[1],HLS[2])))\n",
        "\n",
        "\treturn [ColorOutput1,ColorOutput2]\n"
      ],
      "execution_count": 294,
      "outputs": []
    },
    {
      "cell_type": "code",
      "metadata": {
        "id": "EYPJnHN0-NpR"
      },
      "source": [
        "def print_HLS_complementary(sample):\n",
        "  plt.figure(figsize=(8,8))\n",
        "  plt.imshow([[sample],[complementaryColor(sample)]])\n",
        "\n",
        "  print(\"HLS_complementary\")\n",
        "  print(\"-------------------------------------------\")\n",
        "  print(\"sample ----->\",sample)\n",
        "  print(\"compl. sample\",complementaryColor(sample))\n",
        "  print(\"-------------------------------------------\")\n",
        "  print(\"sample hex ------------>\",rgb2hex(sample[0],sample[1],sample[2]))\n",
        "  print(\"sample complementary hex\",rgb2hex(complementaryColor(sample)[0],complementaryColor(sample)[1],complementaryColor(sample)[2]))\n",
        "  print(\"-------------------------------------------\")\n",
        "\n",
        "def print_HLS_splitComplementaryColor(sample):\n",
        "  plt.figure(figsize=(8,8))\n",
        "  plt.imshow([[sample],[splitComplementaryColor(sample)[0]],[splitComplementaryColor(sample)[1]]])\n",
        "\n",
        "  print(\"HLS_splitComplementaryColor\")\n",
        "  print(\"-------------------------------------------\")\n",
        "  print(\"sample ----->\",sample)\n",
        "  print(\"compl. sample\",splitComplementaryColor(sample)[0])\n",
        "  print(\"compl. sample\",splitComplementaryColor(sample)[1])\n",
        "  print(\"-------------------------------------------\")\n",
        "  print(\"sample hex ------------>\",rgb2hex(sample[0],sample[1],sample[2]))\n",
        "  print(\"sample complementary hex\",rgb2hex(splitComplementaryColor(sample)[0][0],splitComplementaryColor(sample)[0][1],splitComplementaryColor(sample)[0][2]))\n",
        "  print(\"sample complementary hex\",rgb2hex(splitComplementaryColor(sample)[1][0],splitComplementaryColor(sample)[1][1],splitComplementaryColor(sample)[1][2]))\n",
        "  print(\"-------------------------------------------\")\n",
        "\n",
        "def print_HLS_triadicColor(sample):\n",
        "  plt.figure(figsize=(8,8))\n",
        "  plt.imshow([[sample],[triadicColor(sample)[0]],[triadicColor(sample)[1]]])\n",
        "\n",
        "  print(\"HLS_triadicColor\")\n",
        "  print(\"-------------------------------------------\")\n",
        "  print(\"sample ----->\",sample)\n",
        "  print(\"compl. sample\",triadicColor(sample)[0])\n",
        "  print(\"compl. sample\",triadicColor(sample)[1])\n",
        "  print(\"-------------------------------------------\")\n",
        "  print(\"sample hex ------------>\",rgb2hex(sample[0],sample[1],sample[2]))\n",
        "  print(\"sample complementary hex\",rgb2hex(triadicColor(sample)[0][0],triadicColor(sample)[0][1],triadicColor(sample)[0][2]))\n",
        "  print(\"sample complementary hex\",rgb2hex(triadicColor(sample)[1][0],triadicColor(sample)[1][1],triadicColor(sample)[1][2]))\n",
        "  print(\"-------------------------------------------\")\n",
        "\n",
        "def print_HLS_analogousColor(sample):\n",
        "  plt.figure(figsize=(8,8))\n",
        "  plt.imshow([[sample],[analogousColor(sample)[0]],[analogousColor(sample)[1]]])\n",
        "\n",
        "  print(\"HLS_analogousColor\")\n",
        "  print(\"-------------------------------------------\")\n",
        "  print(\"sample ----->\",sample)\n",
        "  print(\"compl. sample\",analogousColor(sample)[0])\n",
        "  print(\"compl. sample\",analogousColor(sample)[1])\n",
        "  print(\"-------------------------------------------\")\n",
        "  print(\"sample hex ------------>\",rgb2hex(sample[0],sample[1],sample[2]))\n",
        "  print(\"sample complementary hex\",rgb2hex(analogousColor(sample)[0][0],analogousColor(sample)[0][1],analogousColor(sample)[0][2]))\n",
        "  print(\"sample complementary hex\",rgb2hex(analogousColor(sample)[1][0],analogousColor(sample)[1][1],analogousColor(sample)[1][2]))\n",
        "  print(\"-------------------------------------------\")\n",
        "\n",
        "def print_HLS_tetradicColor(sample):\n",
        "  plt.figure(figsize=(8,8))\n",
        "  plt.imshow([[sample],[tetradicColor(sample)[0]],[tetradicColor(sample)[1]],[tetradicColor(sample)[2]]])\n",
        "\n",
        "  print(\"HLS_tetradicColor\")\n",
        "  print(\"-------------------------------------------\")\n",
        "  print(\"sample ----->\",sample)\n",
        "  print(\"compl. sample\",tetradicColor(sample)[0])\n",
        "  print(\"compl. sample\",tetradicColor(sample)[1])\n",
        "  print(\"compl. sample\",tetradicColor(sample)[2])\n",
        "  print(\"-------------------------------------------\")\n",
        "  print(\"sample hex ------------>\",rgb2hex(sample[0],sample[1],sample[2]))\n",
        "  print(\"sample complementary hex\",rgb2hex(tetradicColor(sample)[0][0],tetradicColor(sample)[0][1],tetradicColor(sample)[0][2]))\n",
        "  print(\"sample complementary hex\",rgb2hex(tetradicColor(sample)[1][0],tetradicColor(sample)[1][1],tetradicColor(sample)[1][2]))\n",
        "  print(\"sample complementary hex\",rgb2hex(tetradicColor(sample)[2][0],tetradicColor(sample)[2][1],tetradicColor(sample)[2][2]))\n",
        "  print(\"-------------------------------------------\")\n"
      ],
      "execution_count": 295,
      "outputs": []
    },
    {
      "cell_type": "markdown",
      "metadata": {
        "id": "zkFUpMQSJfhg"
      },
      "source": [
        "## Print the colors \n"
      ]
    },
    {
      "cell_type": "code",
      "metadata": {
        "colab": {
          "base_uri": "https://localhost:8080/",
          "height": 742
        },
        "id": "2zs44F6cKMga",
        "outputId": "60be8469-24cf-46b1-b05d-f954f6468eaa"
      },
      "source": [
        "#choose a color or randomly generate one\n",
        "sample = (np.random.randint(0,high=255),np.random.randint(0,high=255),np.random.randint(0,high=255))\n",
        "#sample = (12, 226, 148)\n",
        "print(sample)\n",
        "print_RGB_symmetry(sample)"
      ],
      "execution_count": 317,
      "outputs": [
        {
          "output_type": "stream",
          "name": "stdout",
          "text": [
            "(149, 122, 80)\n",
            "RGB SYMMETRY\n",
            "-------------------------------------------\n",
            "sample -----> (149, 122, 80)\n",
            "compl. sample (106, 133, 175)\n",
            "proj1 ------> (106, 122, 80)\n",
            "compl.  proj1 (149, 133, 175)\n",
            "proj2 ------> (149, 133, 80)\n",
            "compl.  proj2 (106, 122, 175)\n",
            "proj3 ------> (149, 122, 175)\n",
            "compl.  proj3 (106, 133, 80)\n",
            "-------------------------------------------\n",
            "sample hex ------------> #957a50\n",
            "sample complementary hex #6a85af\n",
            "-------------------------------------------\n"
          ]
        },
        {
          "output_type": "display_data",
          "data": {
            "image/png": "[encoded data removed]",
            "text/plain": [
              "<Figure size 720x576 with 4 Axes>"
            ]
          },
          "metadata": {
            "needs_background": "light"
          }
        }
      ]
    },
    {
      "cell_type": "code",
      "metadata": {
        "colab": {
          "base_uri": "https://localhost:8080/",
          "height": 623
        },
        "id": "GVdGrqF_KMpq",
        "outputId": "6a31b551-1a90-4812-d9ad-dc4b074a7e45"
      },
      "source": [
        "print_HLS_complementary(sample)"
      ],
      "execution_count": 318,
      "outputs": [
        {
          "output_type": "stream",
          "name": "stdout",
          "text": [
            "HLS_complementary\n",
            "-------------------------------------------\n",
            "sample -----> (149, 122, 80)\n",
            "compl. sample (80, 107, 149)\n",
            "-------------------------------------------\n",
            "sample hex ------------> #957a50\n",
            "sample complementary hex #506b95\n",
            "-------------------------------------------\n"
          ]
        },
        {
          "output_type": "display_data",
          "data": {
            "image/png": "[encoded data removed]",
            "text/plain": [
              "<Figure size 576x576 with 1 Axes>"
            ]
          },
          "metadata": {
            "needs_background": "light"
          }
        }
      ]
    },
    {
      "cell_type": "code",
      "metadata": {
        "colab": {
          "base_uri": "https://localhost:8080/",
          "height": 657
        },
        "id": "9LrZZgOXKMwe",
        "outputId": "a7c4036b-5215-4996-9935-96bd532b76f2"
      },
      "source": [
        "print_HLS_splitComplementaryColor(sample)"
      ],
      "execution_count": 319,
      "outputs": [
        {
          "output_type": "stream",
          "name": "stdout",
          "text": [
            "HLS_splitComplementaryColor\n",
            "-------------------------------------------\n",
            "sample -----> (149, 122, 80)\n",
            "compl. sample [80, 142, 149]\n",
            "compl. sample [88, 80, 149]\n",
            "-------------------------------------------\n",
            "sample hex ------------> #957a50\n",
            "sample complementary hex #508e95\n",
            "sample complementary hex #585095\n",
            "-------------------------------------------\n"
          ]
        },
        {
          "output_type": "display_data",
          "data": {
            "image/png": "[encoded data removed]",
            "text/plain": [
              "<Figure size 576x576 with 1 Axes>"
            ]
          },
          "metadata": {
            "needs_background": "light"
          }
        }
      ]
    },
    {
      "cell_type": "code",
      "metadata": {
        "colab": {
          "base_uri": "https://localhost:8080/",
          "height": 657
        },
        "id": "ndp_hfjcKM33",
        "outputId": "56fb277b-8e5f-4418-ff2c-e330afe4ff75"
      },
      "source": [
        "print_HLS_triadicColor(sample)"
      ],
      "execution_count": 320,
      "outputs": [
        {
          "output_type": "stream",
          "name": "stdout",
          "text": [
            "HLS_triadicColor\n",
            "-------------------------------------------\n",
            "sample -----> (149, 122, 80)\n",
            "compl. sample [80, 149, 122]\n",
            "compl. sample [122, 80, 149]\n",
            "-------------------------------------------\n",
            "sample hex ------------> #957a50\n",
            "sample complementary hex #50957a\n",
            "sample complementary hex #7a5095\n",
            "-------------------------------------------\n"
          ]
        },
        {
          "output_type": "display_data",
          "data": {
            "image/png": "[encoded data removed]",
            "text/plain": [
              "<Figure size 576x576 with 1 Axes>"
            ]
          },
          "metadata": {
            "needs_background": "light"
          }
        }
      ]
    },
    {
      "cell_type": "code",
      "metadata": {
        "colab": {
          "base_uri": "https://localhost:8080/",
          "height": 657
        },
        "id": "L4RM9CVCKNAA",
        "outputId": "e1dc6d07-4939-42d1-9a42-fca0890f162e"
      },
      "source": [
        "print_HLS_analogousColor(sample)"
      ],
      "execution_count": 321,
      "outputs": [
        {
          "output_type": "stream",
          "name": "stdout",
          "text": [
            "HLS_analogousColor\n",
            "-------------------------------------------\n",
            "sample -----> (149, 122, 80)\n",
            "compl. sample [142, 149, 80]\n",
            "compl. sample [149, 88, 80]\n",
            "-------------------------------------------\n",
            "sample hex ------------> #957a50\n",
            "sample complementary hex #8e9550\n",
            "sample complementary hex #955850\n",
            "-------------------------------------------\n"
          ]
        },
        {
          "output_type": "display_data",
          "data": {
            "image/png": "[encoded data removed]",
            "text/plain": [
              "<Figure size 576x576 with 1 Axes>"
            ]
          },
          "metadata": {
            "needs_background": "light"
          }
        }
      ]
    },
    {
      "cell_type": "code",
      "metadata": {
        "colab": {
          "base_uri": "https://localhost:8080/",
          "height": 691
        },
        "id": "zUhSDadNJiYQ",
        "outputId": "1b5e4cfb-909f-47bd-ef73-7d220d3afd8d"
      },
      "source": [
        "print_HLS_tetradicColor(sample)"
      ],
      "execution_count": 322,
      "outputs": [
        {
          "output_type": "stream",
          "name": "stdout",
          "text": [
            "HLS_tetradicColor\n",
            "-------------------------------------------\n",
            "sample -----> (149, 122, 80)\n",
            "compl. sample [107, 149, 80]\n",
            "compl. sample [80, 107, 149]\n",
            "compl. sample [122, 80, 149]\n",
            "-------------------------------------------\n",
            "sample hex ------------> #957a50\n",
            "sample complementary hex #6b9550\n",
            "sample complementary hex #506b95\n",
            "sample complementary hex #7a5095\n",
            "-------------------------------------------\n"
          ]
        },
        {
          "output_type": "display_data",
          "data": {
            "image/png": "[encoded data removed]",
            "text/plain": [
              "<Figure size 576x576 with 1 Axes>"
            ]
          },
          "metadata": {
            "needs_background": "light"
          }
        }
      ]
    }
  ]
}